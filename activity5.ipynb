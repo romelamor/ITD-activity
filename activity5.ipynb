{
 "cells": [
  {
   "cell_type": "code",
   "execution_count": 1,
   "id": "be60452a-751f-4bfe-adf9-4d2c6584c71c",
   "metadata": {},
   "outputs": [],
   "source": [
    "import pandas as pd\n",
    "import matplotlib.pyplot as plt\n",
    "import seaborn as sns\n",
    "import numpy as np"
   ]
  },
  {
   "cell_type": "code",
   "execution_count": 2,
   "id": "078dfec4-3cd3-44d5-b9b8-1552da5c79b1",
   "metadata": {},
   "outputs": [],
   "source": [
    "df = pd.read_csv('Internet-Demographic.csv')"
   ]
  },
  {
   "cell_type": "code",
   "execution_count": 3,
   "id": "09bcf25d-6bff-4aa6-a108-5dfb3018aa57",
   "metadata": {},
   "outputs": [
    {
     "data": {
      "text/html": [
       "<div>\n",
       "<style scoped>\n",
       "    .dataframe tbody tr th:only-of-type {\n",
       "        vertical-align: middle;\n",
       "    }\n",
       "\n",
       "    .dataframe tbody tr th {\n",
       "        vertical-align: top;\n",
       "    }\n",
       "\n",
       "    .dataframe thead th {\n",
       "        text-align: right;\n",
       "    }\n",
       "</style>\n",
       "<table border=\"1\" class=\"dataframe\">\n",
       "  <thead>\n",
       "    <tr style=\"text-align: right;\">\n",
       "      <th></th>\n",
       "      <th>Unnamed: 0</th>\n",
       "    </tr>\n",
       "  </thead>\n",
       "  <tbody>\n",
       "  </tbody>\n",
       "</table>\n",
       "</div>"
      ],
      "text/plain": [
       "Empty DataFrame\n",
       "Columns: [Unnamed: 0]\n",
       "Index: []"
      ]
     },
     "execution_count": 3,
     "metadata": {},
     "output_type": "execute_result"
    }
   ],
   "source": [
    "df"
   ]
  },
  {
   "cell_type": "code",
   "execution_count": 4,
   "id": "df6c0bed-fe00-4e97-90f9-cd845e19682c",
   "metadata": {},
   "outputs": [
    {
     "data": {
      "text/html": [
       "<div>\n",
       "<style scoped>\n",
       "    .dataframe tbody tr th:only-of-type {\n",
       "        vertical-align: middle;\n",
       "    }\n",
       "\n",
       "    .dataframe tbody tr th {\n",
       "        vertical-align: top;\n",
       "    }\n",
       "\n",
       "    .dataframe thead th {\n",
       "        text-align: right;\n",
       "    }\n",
       "</style>\n",
       "<table border=\"1\" class=\"dataframe\">\n",
       "  <thead>\n",
       "    <tr style=\"text-align: right;\">\n",
       "      <th></th>\n",
       "      <th>Unnamed: 0</th>\n",
       "    </tr>\n",
       "  </thead>\n",
       "  <tbody>\n",
       "  </tbody>\n",
       "</table>\n",
       "</div>"
      ],
      "text/plain": [
       "Empty DataFrame\n",
       "Columns: [Unnamed: 0]\n",
       "Index: []"
      ]
     },
     "execution_count": 4,
     "metadata": {},
     "output_type": "execute_result"
    }
   ],
   "source": [
    "df.head()"
   ]
  },
  {
   "cell_type": "code",
   "execution_count": 5,
   "id": "5c45e5a4-d829-4baa-8748-7d9fbbb52892",
   "metadata": {},
   "outputs": [
    {
     "name": "stdout",
     "output_type": "stream",
     "text": [
      "<class 'pandas.core.frame.DataFrame'>\n",
      "RangeIndex: 0 entries\n",
      "Data columns (total 1 columns):\n",
      " #   Column      Non-Null Count  Dtype \n",
      "---  ------      --------------  ----- \n",
      " 0   Unnamed: 0  0 non-null      object\n",
      "dtypes: object(1)\n",
      "memory usage: 132.0+ bytes\n"
     ]
    }
   ],
   "source": [
    "df.info()"
   ]
  },
  {
   "cell_type": "code",
   "execution_count": 6,
   "id": "949bfb25-64b8-4ac9-a105-bb3be9b6dde3",
   "metadata": {},
   "outputs": [
    {
     "data": {
      "text/plain": [
       "Unnamed: 0    0\n",
       "dtype: int64"
      ]
     },
     "execution_count": 6,
     "metadata": {},
     "output_type": "execute_result"
    }
   ],
   "source": [
    "df.isnull().sum()"
   ]
  },
  {
   "cell_type": "code",
   "execution_count": 7,
   "id": "55c0a0dd-460f-450f-8077-6ca511ff3f9f",
   "metadata": {},
   "outputs": [
    {
     "data": {
      "text/html": [
       "<div>\n",
       "<style scoped>\n",
       "    .dataframe tbody tr th:only-of-type {\n",
       "        vertical-align: middle;\n",
       "    }\n",
       "\n",
       "    .dataframe tbody tr th {\n",
       "        vertical-align: top;\n",
       "    }\n",
       "\n",
       "    .dataframe thead th {\n",
       "        text-align: right;\n",
       "    }\n",
       "</style>\n",
       "<table border=\"1\" class=\"dataframe\">\n",
       "  <thead>\n",
       "    <tr style=\"text-align: right;\">\n",
       "      <th></th>\n",
       "      <th>Unnamed: 0</th>\n",
       "    </tr>\n",
       "  </thead>\n",
       "  <tbody>\n",
       "    <tr>\n",
       "      <th>count</th>\n",
       "      <td>0</td>\n",
       "    </tr>\n",
       "    <tr>\n",
       "      <th>unique</th>\n",
       "      <td>0</td>\n",
       "    </tr>\n",
       "    <tr>\n",
       "      <th>top</th>\n",
       "      <td>NaN</td>\n",
       "    </tr>\n",
       "    <tr>\n",
       "      <th>freq</th>\n",
       "      <td>NaN</td>\n",
       "    </tr>\n",
       "  </tbody>\n",
       "</table>\n",
       "</div>"
      ],
      "text/plain": [
       "       Unnamed: 0\n",
       "count           0\n",
       "unique          0\n",
       "top           NaN\n",
       "freq          NaN"
      ]
     },
     "execution_count": 7,
     "metadata": {},
     "output_type": "execute_result"
    }
   ],
   "source": [
    "df.describe()"
   ]
  },
  {
   "cell_type": "code",
   "execution_count": 8,
   "id": "c7935290-b388-4e40-a73f-0168633bc780",
   "metadata": {},
   "outputs": [
    {
     "ename": "KeyError",
     "evalue": "'Birth rate'",
     "output_type": "error",
     "traceback": [
      "\u001b[31m---------------------------------------------------------------------------\u001b[39m",
      "\u001b[31mKeyError\u001b[39m                                  Traceback (most recent call last)",
      "\u001b[36mFile \u001b[39m\u001b[32m~\\AppData\\Local\\Packages\\PythonSoftwareFoundation.Python.3.13_qbz5n2kfra8p0\\LocalCache\\local-packages\\Python313\\site-packages\\pandas\\core\\indexes\\base.py:3805\u001b[39m, in \u001b[36mIndex.get_loc\u001b[39m\u001b[34m(self, key)\u001b[39m\n\u001b[32m   3804\u001b[39m \u001b[38;5;28;01mtry\u001b[39;00m:\n\u001b[32m-> \u001b[39m\u001b[32m3805\u001b[39m     \u001b[38;5;28;01mreturn\u001b[39;00m \u001b[38;5;28;43mself\u001b[39;49m\u001b[43m.\u001b[49m\u001b[43m_engine\u001b[49m\u001b[43m.\u001b[49m\u001b[43mget_loc\u001b[49m\u001b[43m(\u001b[49m\u001b[43mcasted_key\u001b[49m\u001b[43m)\u001b[49m\n\u001b[32m   3806\u001b[39m \u001b[38;5;28;01mexcept\u001b[39;00m \u001b[38;5;167;01mKeyError\u001b[39;00m \u001b[38;5;28;01mas\u001b[39;00m err:\n",
      "\u001b[36mFile \u001b[39m\u001b[32mindex.pyx:167\u001b[39m, in \u001b[36mpandas._libs.index.IndexEngine.get_loc\u001b[39m\u001b[34m()\u001b[39m\n",
      "\u001b[36mFile \u001b[39m\u001b[32mindex.pyx:196\u001b[39m, in \u001b[36mpandas._libs.index.IndexEngine.get_loc\u001b[39m\u001b[34m()\u001b[39m\n",
      "\u001b[36mFile \u001b[39m\u001b[32mpandas\\\\_libs\\\\hashtable_class_helper.pxi:7081\u001b[39m, in \u001b[36mpandas._libs.hashtable.PyObjectHashTable.get_item\u001b[39m\u001b[34m()\u001b[39m\n",
      "\u001b[36mFile \u001b[39m\u001b[32mpandas\\\\_libs\\\\hashtable_class_helper.pxi:7089\u001b[39m, in \u001b[36mpandas._libs.hashtable.PyObjectHashTable.get_item\u001b[39m\u001b[34m()\u001b[39m\n",
      "\u001b[31mKeyError\u001b[39m: 'Birth rate'",
      "\nThe above exception was the direct cause of the following exception:\n",
      "\u001b[31mKeyError\u001b[39m                                  Traceback (most recent call last)",
      "\u001b[36mCell\u001b[39m\u001b[36m \u001b[39m\u001b[32mIn[8]\u001b[39m\u001b[32m, line 1\u001b[39m\n\u001b[32m----> \u001b[39m\u001b[32m1\u001b[39m birthrate = \u001b[43mdf\u001b[49m\u001b[43m[\u001b[49m\u001b[33;43m'\u001b[39;49m\u001b[33;43mBirth rate\u001b[39;49m\u001b[33;43m'\u001b[39;49m\u001b[43m]\u001b[49m.value_counts()\n\u001b[32m      2\u001b[39m birthrate \n",
      "\u001b[36mFile \u001b[39m\u001b[32m~\\AppData\\Local\\Packages\\PythonSoftwareFoundation.Python.3.13_qbz5n2kfra8p0\\LocalCache\\local-packages\\Python313\\site-packages\\pandas\\core\\frame.py:4102\u001b[39m, in \u001b[36mDataFrame.__getitem__\u001b[39m\u001b[34m(self, key)\u001b[39m\n\u001b[32m   4100\u001b[39m \u001b[38;5;28;01mif\u001b[39;00m \u001b[38;5;28mself\u001b[39m.columns.nlevels > \u001b[32m1\u001b[39m:\n\u001b[32m   4101\u001b[39m     \u001b[38;5;28;01mreturn\u001b[39;00m \u001b[38;5;28mself\u001b[39m._getitem_multilevel(key)\n\u001b[32m-> \u001b[39m\u001b[32m4102\u001b[39m indexer = \u001b[38;5;28;43mself\u001b[39;49m\u001b[43m.\u001b[49m\u001b[43mcolumns\u001b[49m\u001b[43m.\u001b[49m\u001b[43mget_loc\u001b[49m\u001b[43m(\u001b[49m\u001b[43mkey\u001b[49m\u001b[43m)\u001b[49m\n\u001b[32m   4103\u001b[39m \u001b[38;5;28;01mif\u001b[39;00m is_integer(indexer):\n\u001b[32m   4104\u001b[39m     indexer = [indexer]\n",
      "\u001b[36mFile \u001b[39m\u001b[32m~\\AppData\\Local\\Packages\\PythonSoftwareFoundation.Python.3.13_qbz5n2kfra8p0\\LocalCache\\local-packages\\Python313\\site-packages\\pandas\\core\\indexes\\base.py:3812\u001b[39m, in \u001b[36mIndex.get_loc\u001b[39m\u001b[34m(self, key)\u001b[39m\n\u001b[32m   3807\u001b[39m     \u001b[38;5;28;01mif\u001b[39;00m \u001b[38;5;28misinstance\u001b[39m(casted_key, \u001b[38;5;28mslice\u001b[39m) \u001b[38;5;129;01mor\u001b[39;00m (\n\u001b[32m   3808\u001b[39m         \u001b[38;5;28misinstance\u001b[39m(casted_key, abc.Iterable)\n\u001b[32m   3809\u001b[39m         \u001b[38;5;129;01mand\u001b[39;00m \u001b[38;5;28many\u001b[39m(\u001b[38;5;28misinstance\u001b[39m(x, \u001b[38;5;28mslice\u001b[39m) \u001b[38;5;28;01mfor\u001b[39;00m x \u001b[38;5;129;01min\u001b[39;00m casted_key)\n\u001b[32m   3810\u001b[39m     ):\n\u001b[32m   3811\u001b[39m         \u001b[38;5;28;01mraise\u001b[39;00m InvalidIndexError(key)\n\u001b[32m-> \u001b[39m\u001b[32m3812\u001b[39m     \u001b[38;5;28;01mraise\u001b[39;00m \u001b[38;5;167;01mKeyError\u001b[39;00m(key) \u001b[38;5;28;01mfrom\u001b[39;00m\u001b[38;5;250m \u001b[39m\u001b[34;01merr\u001b[39;00m\n\u001b[32m   3813\u001b[39m \u001b[38;5;28;01mexcept\u001b[39;00m \u001b[38;5;167;01mTypeError\u001b[39;00m:\n\u001b[32m   3814\u001b[39m     \u001b[38;5;66;03m# If we have a listlike key, _check_indexing_error will raise\u001b[39;00m\n\u001b[32m   3815\u001b[39m     \u001b[38;5;66;03m#  InvalidIndexError. Otherwise we fall through and re-raise\u001b[39;00m\n\u001b[32m   3816\u001b[39m     \u001b[38;5;66;03m#  the TypeError.\u001b[39;00m\n\u001b[32m   3817\u001b[39m     \u001b[38;5;28mself\u001b[39m._check_indexing_error(key)\n",
      "\u001b[31mKeyError\u001b[39m: 'Birth rate'"
     ]
    }
   ],
   "source": [
    "birthrate = df['Birth rate'].value_counts()\n",
    "birthrate "
   ]
  },
  {
   "cell_type": "code",
   "execution_count": null,
   "id": "7e80853c-8f7b-46a7-8eed-37838163b9cf",
   "metadata": {},
   "outputs": [],
   "source": [
    "plt.figure(figsize=(10, 6))\n",
    "plt.hist(df['Birth rate'], bins=20, edgecolor='black', alpha=0.7)\n",
    "plt.xlabel(\"Birth Rate\")\n",
    "plt.ylabel(\"Frequency\") \n",
    "plt.title(\"Distribution of Birth Rates\") \n",
    "plt.show()"
   ]
  },
  {
   "cell_type": "markdown",
   "id": "68f79b85-43d1-4a22-80bb-400efd5abc24",
   "metadata": {},
   "source": [
    "<h1>1. DISTRIBUTION OF BIRTH RATE</h1>"
   ]
  },
  {
   "cell_type": "code",
   "execution_count": null,
   "id": "6bc30e32-d321-42bb-9015-f7373dfe3ec7",
   "metadata": {},
   "outputs": [],
   "source": [
    "plt.figure(figsize=(10, 6))\n",
    "plt.hist(birthrate, bins=20, edgecolor='black')\n",
    "plt.xlabel(\"Birth Rate\")\n",
    "plt.ylabel(\"Frequency\") \n",
    "plt.title(\"Distribution of Birth Rates in Percentage\") \n",
    "plt.show()"
   ]
  },
  {
   "cell_type": "markdown",
   "id": "49b8c7bd-3c21-4ab8-81aa-1c889c10e13b",
   "metadata": {},
   "source": [
    "<h1>2.Top 5 Countries with Highest Internet Usage</h1>"
   ]
  },
  {
   "cell_type": "code",
   "execution_count": null,
   "id": "e3e04a72-aac3-4b3e-b805-73c28b02d96c",
   "metadata": {},
   "outputs": [],
   "source": [
    "top5 = df.nlargest(5, 'Internet users')[['Country Code', 'Internet users']]  \n",
    "(top5) \n"
   ]
  },
  {
   "cell_type": "markdown",
   "id": "d659ef25-5f31-4664-b2c8-ceb74906002c",
   "metadata": {},
   "source": [
    "<h1>3. Count of Countries by Income Group</h1>"
   ]
  },
  {
   "cell_type": "code",
   "execution_count": null,
   "id": "b7d450c6-474e-4a0a-89bb-88c3473109b6",
   "metadata": {},
   "outputs": [],
   "source": [
    "income_counts = df['Income Group'].value_counts()\n",
    "plt.figure(figsize=(10, 6))\n",
    "sns.barplot(x=income_counts.index, y=income_counts.values)\n",
    "plt.xlabel(\"Income Group\")\n",
    "plt.ylabel(\"Number of Countries\")\n",
    "plt.title(\"Count of Countries by Income Group\")\n",
    "plt.show()"
   ]
  },
  {
   "cell_type": "markdown",
   "id": "a498d513-c0da-4497-a79f-c7691b0c08de",
   "metadata": {},
   "source": [
    "<h1>4. Box Plot of Internet Usage\n",
    "</h1>"
   ]
  },
  {
   "cell_type": "code",
   "execution_count": null,
   "id": "3c74226b-8df8-480f-8603-9944077bcffb",
   "metadata": {},
   "outputs": [],
   "source": []
  },
  {
   "cell_type": "markdown",
   "id": "64a6aacd-5f09-49ff-96e3-0aa9cae43dce",
   "metadata": {},
   "source": [
    "<h1>5. Countries with no Internet Access</h1>"
   ]
  },
  {
   "cell_type": "code",
   "execution_count": null,
   "id": "dc796bfd-8d23-4bfb-93f3-8beaee0756fe",
   "metadata": {},
   "outputs": [],
   "source": [
    "no_internet = df[df['Internet users'] == 0][['Country Code']]\n",
    "(no_internet)"
   ]
  },
  {
   "cell_type": "markdown",
   "id": "d3586571-2429-432d-9ad9-7ed36e68a004",
   "metadata": {},
   "source": [
    "<h1>6. Average Birth Rate</h1>"
   ]
  },
  {
   "cell_type": "code",
   "execution_count": null,
   "id": "48f34846-7464-46f6-95e9-a5aed219be3e",
   "metadata": {},
   "outputs": [],
   "source": [
    "avg_birth_rate = df['Birth rate'].mean()\n",
    "(avg_birth_rate)"
   ]
  },
  {
   "cell_type": "markdown",
   "id": "594d30d6-7874-4eaa-addd-29d71308f46a",
   "metadata": {},
   "source": [
    "<h1>7. Scatter Plot: Birth Rate VS. Internet Usage</h1>"
   ]
  },
  {
   "cell_type": "code",
   "execution_count": null,
   "id": "a921ec34-5618-4481-8f42-5594972dc1db",
   "metadata": {},
   "outputs": [],
   "source": [
    "plt.figure(figsize=(10, 6))\n",
    "plt.scatter(df['Birth rate'], df['Internet users'])\n",
    "plt.xlabel(\"Birth Rate\")\n",
    "plt.ylabel(\"Internet Usage (%)\")\n",
    "plt.title(\"Scatter Plot: Birth Rate vs. Internet Usage\")\n",
    "plt.show()"
   ]
  },
  {
   "cell_type": "markdown",
   "id": "cdab42f0-878b-41a9-928c-0e79ca0a0b41",
   "metadata": {},
   "source": [
    "<h1>8. Countries with Birth Rates Above 40</h1>"
   ]
  },
  {
   "cell_type": "code",
   "execution_count": null,
   "id": "0d8dbc7a-dfa4-40d2-91e8-9d481631da9f",
   "metadata": {},
   "outputs": [],
   "source": [
    "high_birth_rate = df[df['Birth rate'] > 40][['Country Name', 'Birth rate']]\n",
    "(high_birth_rate)"
   ]
  },
  {
   "cell_type": "markdown",
   "id": "9c3bfefa-7f4d-45bb-89e0-e3daddb81a61",
   "metadata": {},
   "source": [
    "<h1>9. Pie Chart of Income Groups</h1>"
   ]
  },
  {
   "cell_type": "code",
   "execution_count": null,
   "id": "0d0675fc-104f-46ae-9c3c-e3eb2414253a",
   "metadata": {},
   "outputs": [],
   "source": [
    "plt.figure(figsize=(8, 8))\n",
    "plt.pie(income_counts, labels=income_counts.index, autopct='%1.1f%%')\n",
    "plt.title(\"Proportion of Countries by Income Group\")\n",
    "plt.show()"
   ]
  },
  {
   "cell_type": "markdown",
   "id": "6bba4013-dd59-42f4-863b-bf741567eafe",
   "metadata": {},
   "source": [
    "<h1>10. Correlation Between Birth Rate and Internet Usage</h1>"
   ]
  },
  {
   "cell_type": "code",
   "execution_count": null,
   "id": "0660735a-8dad-418f-a9f2-6c7ee1a8e8ba",
   "metadata": {},
   "outputs": [],
   "source": [
    "corr= df['Birth rate'].corr(df['Internet users'])\n",
    "(corr)"
   ]
  },
  {
   "cell_type": "code",
   "execution_count": null,
   "id": "159f5bcb-e04f-45ab-bb27-afd18758bd34",
   "metadata": {},
   "outputs": [],
   "source": []
  },
  {
   "cell_type": "code",
   "execution_count": null,
   "id": "d6af1899-2141-4692-be7b-1c13f4852913",
   "metadata": {},
   "outputs": [],
   "source": []
  },
  {
   "cell_type": "code",
   "execution_count": null,
   "id": "745f3d8f-b10e-4bc3-a99e-72367e880ca6",
   "metadata": {},
   "outputs": [],
   "source": []
  }
 ],
 "metadata": {
  "kernelspec": {
   "display_name": "Python 3 (ipykernel)",
   "language": "python",
   "name": "python3"
  },
  "language_info": {
   "codemirror_mode": {
    "name": "ipython",
    "version": 3
   },
   "file_extension": ".py",
   "mimetype": "text/x-python",
   "name": "python",
   "nbconvert_exporter": "python",
   "pygments_lexer": "ipython3",
   "version": "3.13.3"
  }
 },
 "nbformat": 4,
 "nbformat_minor": 5
}
